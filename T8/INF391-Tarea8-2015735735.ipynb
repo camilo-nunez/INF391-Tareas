{
 "cells": [
  {
   "cell_type": "markdown",
   "metadata": {
    "colab_type": "text",
    "id": "1e9BGw_SEwkC"
   },
   "source": [
    "# INF391 - Tarea 8\n",
    "Dado el siguiente conjunto de transacciones:\n",
    "\n",
    "* Muestre todos los **itemset frecuentes** usando el algoritmo *Apriori* considerando un soporte mínimo $\\mathbf{minsup}=0.2$. ¿Cuál es el itemset más frecuente?. ¿Qué razón tiene su alta frecuencia?.\n",
    "* ¿Qué reglas superan el umbral de confianza mínima $\\mathbf{minconf}=0.6$?. Comente los resultados obtenidos.\n",
    "* Graficar el scatter plot *Support* vs *Confidence*. Interpretar el gráfico. Compare la regla con mayor Soporte versus la regla con mayor Confianza. ¿Qué puede concluir al respecto?.\n"
   ]
  },
  {
   "cell_type": "code",
   "execution_count": 1,
   "metadata": {
    "colab": {},
    "colab_type": "code",
    "id": "kKFOn_dJEK9V"
   },
   "outputs": [],
   "source": [
    "import pandas as pd\n",
    "import numpy as np\n",
    "from mlxtend.frequent_patterns import apriori, association_rules\n",
    "from mlxtend.preprocessing import TransactionEncoder\n",
    "import matplotlib.pyplot as plt"
   ]
  },
  {
   "cell_type": "code",
   "execution_count": 2,
   "metadata": {
    "colab": {
     "base_uri": "https://localhost:8080/",
     "height": 221
    },
    "colab_type": "code",
    "id": "ul-mdR-REeiz",
    "outputId": "1ec8fb7c-52af-47c7-f95a-6d061e634998"
   },
   "outputs": [
    {
     "name": "stdout",
     "output_type": "stream",
     "text": [
      "Número de transacciones: 315\n"
     ]
    },
    {
     "data": {
      "text/html": [
       "<div>\n",
       "<style scoped>\n",
       "    .dataframe tbody tr th:only-of-type {\n",
       "        vertical-align: middle;\n",
       "    }\n",
       "\n",
       "    .dataframe tbody tr th {\n",
       "        vertical-align: top;\n",
       "    }\n",
       "\n",
       "    .dataframe thead th {\n",
       "        text-align: right;\n",
       "    }\n",
       "</style>\n",
       "<table border=\"1\" class=\"dataframe\">\n",
       "  <thead>\n",
       "    <tr style=\"text-align: right;\">\n",
       "      <th></th>\n",
       "      <th>0</th>\n",
       "      <th>1</th>\n",
       "      <th>2</th>\n",
       "      <th>3</th>\n",
       "      <th>4</th>\n",
       "      <th>5</th>\n",
       "      <th>6</th>\n",
       "    </tr>\n",
       "  </thead>\n",
       "  <tbody>\n",
       "    <tr>\n",
       "      <th>0</th>\n",
       "      <td>Pan</td>\n",
       "      <td>Vino</td>\n",
       "      <td>Huevos</td>\n",
       "      <td>Carne</td>\n",
       "      <td>Queso</td>\n",
       "      <td>Lápiz</td>\n",
       "      <td>Pañales</td>\n",
       "    </tr>\n",
       "    <tr>\n",
       "      <th>1</th>\n",
       "      <td>Pan</td>\n",
       "      <td>Queso</td>\n",
       "      <td>Carne</td>\n",
       "      <td>Pañales</td>\n",
       "      <td>Vino</td>\n",
       "      <td>Leche</td>\n",
       "      <td>Lápiz</td>\n",
       "    </tr>\n",
       "    <tr>\n",
       "      <th>2</th>\n",
       "      <td>Queso</td>\n",
       "      <td>Carne</td>\n",
       "      <td>Huevos</td>\n",
       "      <td>Leche</td>\n",
       "      <td>Vino</td>\n",
       "      <td>NaN</td>\n",
       "      <td>NaN</td>\n",
       "    </tr>\n",
       "    <tr>\n",
       "      <th>3</th>\n",
       "      <td>Queso</td>\n",
       "      <td>Carne</td>\n",
       "      <td>Huevos</td>\n",
       "      <td>Leche</td>\n",
       "      <td>Vino</td>\n",
       "      <td>NaN</td>\n",
       "      <td>NaN</td>\n",
       "    </tr>\n",
       "    <tr>\n",
       "      <th>4</th>\n",
       "      <td>Carne</td>\n",
       "      <td>Lápiz</td>\n",
       "      <td>Vino</td>\n",
       "      <td>NaN</td>\n",
       "      <td>NaN</td>\n",
       "      <td>NaN</td>\n",
       "      <td>NaN</td>\n",
       "    </tr>\n",
       "  </tbody>\n",
       "</table>\n",
       "</div>"
      ],
      "text/plain": [
       "       0      1       2        3      4      5        6\n",
       "0    Pan   Vino  Huevos    Carne  Queso  Lápiz  Pañales\n",
       "1    Pan  Queso   Carne  Pañales   Vino  Leche    Lápiz\n",
       "2  Queso  Carne  Huevos    Leche   Vino    NaN      NaN\n",
       "3  Queso  Carne  Huevos    Leche   Vino    NaN      NaN\n",
       "4  Carne  Lápiz    Vino      NaN    NaN    NaN      NaN"
      ]
     },
     "execution_count": 2,
     "metadata": {},
     "output_type": "execute_result"
    }
   ],
   "source": [
    "df = pd.read_csv('retail_dataset.csv', sep=',')\n",
    "print (\"Número de transacciones:\", df.shape[0])\n",
    "df.head()"
   ]
  },
  {
   "cell_type": "code",
   "execution_count": 3,
   "metadata": {},
   "outputs": [
    {
     "name": "stdout",
     "output_type": "stream",
     "text": [
      "9 Items: ['Pan' 'Queso' 'Carne' 'Huevos' 'Vino' 'Bagel' 'Lápiz' 'Pañales' 'Leche']\n"
     ]
    }
   ],
   "source": [
    "items = (df['0'].unique())\n",
    "print(str(len(items)) + \" Items:\", items)"
   ]
  },
  {
   "cell_type": "code",
   "execution_count": 4,
   "metadata": {},
   "outputs": [],
   "source": [
    "items_car =[list(i[~pd.isnull(i)]) for i in df.values]\n",
    "te = TransactionEncoder()\n",
    "te_ary = te.fit(items_car).transform(items_car)\n",
    "dataframe_binario = pd.DataFrame(te_ary, columns=te.columns_)"
   ]
  },
  {
   "cell_type": "markdown",
   "metadata": {
    "colab_type": "text",
    "id": "El-Zg8l5Nddv"
   },
   "source": [
    "**Generar itemsets frecuentes**\n",
    "\n",
    "La función  ```apriori``` recibe un dataframe binario (compuesto por 0 y 1).\n",
    "\n"
   ]
  },
  {
   "cell_type": "code",
   "execution_count": 5,
   "metadata": {
    "colab": {},
    "colab_type": "code",
    "id": "nckCIh5rLrlU"
   },
   "outputs": [],
   "source": [
    "itemset_frecuentes = apriori(dataframe_binario, min_support=0.2, use_colnames=True)"
   ]
  },
  {
   "cell_type": "code",
   "execution_count": 6,
   "metadata": {},
   "outputs": [
    {
     "data": {
      "text/html": [
       "<div>\n",
       "<style scoped>\n",
       "    .dataframe tbody tr th:only-of-type {\n",
       "        vertical-align: middle;\n",
       "    }\n",
       "\n",
       "    .dataframe tbody tr th {\n",
       "        vertical-align: top;\n",
       "    }\n",
       "\n",
       "    .dataframe thead th {\n",
       "        text-align: right;\n",
       "    }\n",
       "</style>\n",
       "<table border=\"1\" class=\"dataframe\">\n",
       "  <thead>\n",
       "    <tr style=\"text-align: right;\">\n",
       "      <th></th>\n",
       "      <th>support</th>\n",
       "      <th>itemsets</th>\n",
       "    </tr>\n",
       "  </thead>\n",
       "  <tbody>\n",
       "    <tr>\n",
       "      <th>0</th>\n",
       "      <td>0.425397</td>\n",
       "      <td>(Bagel)</td>\n",
       "    </tr>\n",
       "    <tr>\n",
       "      <th>1</th>\n",
       "      <td>0.476190</td>\n",
       "      <td>(Carne)</td>\n",
       "    </tr>\n",
       "    <tr>\n",
       "      <th>2</th>\n",
       "      <td>0.438095</td>\n",
       "      <td>(Huevos)</td>\n",
       "    </tr>\n",
       "    <tr>\n",
       "      <th>3</th>\n",
       "      <td>0.501587</td>\n",
       "      <td>(Leche)</td>\n",
       "    </tr>\n",
       "    <tr>\n",
       "      <th>4</th>\n",
       "      <td>0.361905</td>\n",
       "      <td>(Lápiz)</td>\n",
       "    </tr>\n",
       "    <tr>\n",
       "      <th>5</th>\n",
       "      <td>0.504762</td>\n",
       "      <td>(Pan)</td>\n",
       "    </tr>\n",
       "    <tr>\n",
       "      <th>6</th>\n",
       "      <td>0.406349</td>\n",
       "      <td>(Pañales)</td>\n",
       "    </tr>\n",
       "    <tr>\n",
       "      <th>7</th>\n",
       "      <td>0.501587</td>\n",
       "      <td>(Queso)</td>\n",
       "    </tr>\n",
       "    <tr>\n",
       "      <th>8</th>\n",
       "      <td>0.438095</td>\n",
       "      <td>(Vino)</td>\n",
       "    </tr>\n",
       "    <tr>\n",
       "      <th>9</th>\n",
       "      <td>0.225397</td>\n",
       "      <td>(Leche, Bagel)</td>\n",
       "    </tr>\n",
       "    <tr>\n",
       "      <th>10</th>\n",
       "      <td>0.279365</td>\n",
       "      <td>(Pan, Bagel)</td>\n",
       "    </tr>\n",
       "    <tr>\n",
       "      <th>11</th>\n",
       "      <td>0.266667</td>\n",
       "      <td>(Huevos, Carne)</td>\n",
       "    </tr>\n",
       "    <tr>\n",
       "      <th>12</th>\n",
       "      <td>0.244444</td>\n",
       "      <td>(Leche, Carne)</td>\n",
       "    </tr>\n",
       "    <tr>\n",
       "      <th>13</th>\n",
       "      <td>0.206349</td>\n",
       "      <td>(Pan, Carne)</td>\n",
       "    </tr>\n",
       "    <tr>\n",
       "      <th>14</th>\n",
       "      <td>0.323810</td>\n",
       "      <td>(Queso, Carne)</td>\n",
       "    </tr>\n",
       "    <tr>\n",
       "      <th>15</th>\n",
       "      <td>0.250794</td>\n",
       "      <td>(Vino, Carne)</td>\n",
       "    </tr>\n",
       "    <tr>\n",
       "      <th>16</th>\n",
       "      <td>0.244444</td>\n",
       "      <td>(Leche, Huevos)</td>\n",
       "    </tr>\n",
       "    <tr>\n",
       "      <th>17</th>\n",
       "      <td>0.298413</td>\n",
       "      <td>(Queso, Huevos)</td>\n",
       "    </tr>\n",
       "    <tr>\n",
       "      <th>18</th>\n",
       "      <td>0.241270</td>\n",
       "      <td>(Huevos, Vino)</td>\n",
       "    </tr>\n",
       "    <tr>\n",
       "      <th>19</th>\n",
       "      <td>0.279365</td>\n",
       "      <td>(Pan, Leche)</td>\n",
       "    </tr>\n",
       "    <tr>\n",
       "      <th>20</th>\n",
       "      <td>0.304762</td>\n",
       "      <td>(Leche, Queso)</td>\n",
       "    </tr>\n",
       "    <tr>\n",
       "      <th>21</th>\n",
       "      <td>0.219048</td>\n",
       "      <td>(Leche, Vino)</td>\n",
       "    </tr>\n",
       "    <tr>\n",
       "      <th>22</th>\n",
       "      <td>0.200000</td>\n",
       "      <td>(Lápiz, Pan)</td>\n",
       "    </tr>\n",
       "    <tr>\n",
       "      <th>23</th>\n",
       "      <td>0.200000</td>\n",
       "      <td>(Lápiz, Queso)</td>\n",
       "    </tr>\n",
       "    <tr>\n",
       "      <th>24</th>\n",
       "      <td>0.200000</td>\n",
       "      <td>(Lápiz, Vino)</td>\n",
       "    </tr>\n",
       "    <tr>\n",
       "      <th>25</th>\n",
       "      <td>0.231746</td>\n",
       "      <td>(Pañales, Pan)</td>\n",
       "    </tr>\n",
       "    <tr>\n",
       "      <th>26</th>\n",
       "      <td>0.238095</td>\n",
       "      <td>(Pan, Queso)</td>\n",
       "    </tr>\n",
       "    <tr>\n",
       "      <th>27</th>\n",
       "      <td>0.244444</td>\n",
       "      <td>(Pan, Vino)</td>\n",
       "    </tr>\n",
       "    <tr>\n",
       "      <th>28</th>\n",
       "      <td>0.200000</td>\n",
       "      <td>(Pañales, Queso)</td>\n",
       "    </tr>\n",
       "    <tr>\n",
       "      <th>29</th>\n",
       "      <td>0.234921</td>\n",
       "      <td>(Pañales, Vino)</td>\n",
       "    </tr>\n",
       "    <tr>\n",
       "      <th>30</th>\n",
       "      <td>0.269841</td>\n",
       "      <td>(Queso, Vino)</td>\n",
       "    </tr>\n",
       "    <tr>\n",
       "      <th>31</th>\n",
       "      <td>0.215873</td>\n",
       "      <td>(Queso, Huevos, Carne)</td>\n",
       "    </tr>\n",
       "    <tr>\n",
       "      <th>32</th>\n",
       "      <td>0.203175</td>\n",
       "      <td>(Leche, Queso, Carne)</td>\n",
       "    </tr>\n",
       "  </tbody>\n",
       "</table>\n",
       "</div>"
      ],
      "text/plain": [
       "     support                itemsets\n",
       "0   0.425397                 (Bagel)\n",
       "1   0.476190                 (Carne)\n",
       "2   0.438095                (Huevos)\n",
       "3   0.501587                 (Leche)\n",
       "4   0.361905                 (Lápiz)\n",
       "5   0.504762                   (Pan)\n",
       "6   0.406349               (Pañales)\n",
       "7   0.501587                 (Queso)\n",
       "8   0.438095                  (Vino)\n",
       "9   0.225397          (Leche, Bagel)\n",
       "10  0.279365            (Pan, Bagel)\n",
       "11  0.266667         (Huevos, Carne)\n",
       "12  0.244444          (Leche, Carne)\n",
       "13  0.206349            (Pan, Carne)\n",
       "14  0.323810          (Queso, Carne)\n",
       "15  0.250794           (Vino, Carne)\n",
       "16  0.244444         (Leche, Huevos)\n",
       "17  0.298413         (Queso, Huevos)\n",
       "18  0.241270          (Huevos, Vino)\n",
       "19  0.279365            (Pan, Leche)\n",
       "20  0.304762          (Leche, Queso)\n",
       "21  0.219048           (Leche, Vino)\n",
       "22  0.200000            (Lápiz, Pan)\n",
       "23  0.200000          (Lápiz, Queso)\n",
       "24  0.200000           (Lápiz, Vino)\n",
       "25  0.231746          (Pañales, Pan)\n",
       "26  0.238095            (Pan, Queso)\n",
       "27  0.244444             (Pan, Vino)\n",
       "28  0.200000        (Pañales, Queso)\n",
       "29  0.234921         (Pañales, Vino)\n",
       "30  0.269841           (Queso, Vino)\n",
       "31  0.215873  (Queso, Huevos, Carne)\n",
       "32  0.203175   (Leche, Queso, Carne)"
      ]
     },
     "execution_count": 6,
     "metadata": {},
     "output_type": "execute_result"
    }
   ],
   "source": [
    "itemset_frecuentes"
   ]
  },
  {
   "cell_type": "code",
   "execution_count": 7,
   "metadata": {},
   "outputs": [],
   "source": [
    "max_1_itemset = itemset_frecuentes.iloc[0:9,].reset_index(drop=True)\n",
    "max_2_itemset = itemset_frecuentes.iloc[9:31,].reset_index(drop=True)\n",
    "max_3_itemset = itemset_frecuentes.iloc[31:,].reset_index(drop=True)\n",
    "\n",
    "max_1_itemset = max_1_itemset.loc[max_1_itemset['support'].argmax()]\n",
    "max_2_itemset = max_2_itemset.loc[max_2_itemset['support'].argmax()]\n",
    "max_3_itemset = max_3_itemset.loc[max_3_itemset['support'].argmax()]"
   ]
  },
  {
   "cell_type": "code",
   "execution_count": 8,
   "metadata": {},
   "outputs": [
    {
     "name": "stdout",
     "output_type": "stream",
     "text": [
      "support     0.504762\n",
      "itemsets       (Pan)\n",
      "Name: 5, dtype: object \n",
      "\n",
      " support            0.32381\n",
      "itemsets    (Queso, Carne)\n",
      "Name: 5, dtype: object \n",
      "\n",
      " support                   0.215873\n",
      "itemsets    (Queso, Huevos, Carne)\n",
      "Name: 0, dtype: object\n"
     ]
    }
   ],
   "source": [
    "print(max_1_itemset,'\\n\\n',max_2_itemset,'\\n\\n',max_3_itemset)"
   ]
  },
  {
   "cell_type": "markdown",
   "metadata": {},
   "source": [
    "### Análisis"
   ]
  },
  {
   "cell_type": "markdown",
   "metadata": {},
   "source": [
    "> ¿Cuál es el itemset más frecuente?\n",
    "\n",
    "Para contestar esta pregunta, se consideraran los $k-itemset$ con $k\\in[1,3]$, de los cuales se escogerá el cual tenga el mayor `support`.\n",
    "\n",
    "Para $1-itemset$ se tiene el set `(Pan)`, para $2-itemset$ se tiene el set `(Queso, Carne)`, y para el $3-itemset$ se tiene el set `(Queso, Huevos, Carne)`:\n",
    "\n",
    "> ¿Qué razón tiene su alta frecuencia?.\n",
    "\n",
    "Para comprender la alta frecuencia, debemos considera los `support` de cada $k-itemset$. Recordemos que el `support` determina qué tan frecuentemente aplicable es una regla a un itemset dado. El `support` se define como:\n",
    "\n",
    "$$\n",
    "s(X\\to Y) = \\frac{\\sigma(X\\cup Y)}{N}\n",
    "$$\n",
    "\n",
    "Donde $X\\to Y$ corresponde a una regla de asociación, y $\\sigma()$ al `Itemset Support`.\n",
    "\n",
    "Luego, buscamos un soporte que tenga un valor alto, dado que esto implica que su $\\sigma()$ será mayor, y a su vez nos indica que posee una mayor frecuencia."
   ]
  },
  {
   "cell_type": "markdown",
   "metadata": {
    "colab_type": "text",
    "id": "hxrYObGRTM0u"
   },
   "source": [
    "**Reglas interesantes**"
   ]
  },
  {
   "cell_type": "code",
   "execution_count": 9,
   "metadata": {
    "colab": {},
    "colab_type": "code",
    "id": "ARRqK3GrOzIe"
   },
   "outputs": [],
   "source": [
    "reglas_interesantes = association_rules(itemset_frecuentes, metric=\"confidence\", min_threshold=0.6)"
   ]
  },
  {
   "cell_type": "code",
   "execution_count": 10,
   "metadata": {},
   "outputs": [
    {
     "data": {
      "text/html": [
       "<div>\n",
       "<style scoped>\n",
       "    .dataframe tbody tr th:only-of-type {\n",
       "        vertical-align: middle;\n",
       "    }\n",
       "\n",
       "    .dataframe tbody tr th {\n",
       "        vertical-align: top;\n",
       "    }\n",
       "\n",
       "    .dataframe thead th {\n",
       "        text-align: right;\n",
       "    }\n",
       "</style>\n",
       "<table border=\"1\" class=\"dataframe\">\n",
       "  <thead>\n",
       "    <tr style=\"text-align: right;\">\n",
       "      <th></th>\n",
       "      <th>antecedents</th>\n",
       "      <th>consequents</th>\n",
       "      <th>antecedent support</th>\n",
       "      <th>consequent support</th>\n",
       "      <th>support</th>\n",
       "      <th>confidence</th>\n",
       "      <th>lift</th>\n",
       "      <th>leverage</th>\n",
       "      <th>conviction</th>\n",
       "    </tr>\n",
       "  </thead>\n",
       "  <tbody>\n",
       "    <tr>\n",
       "      <th>0</th>\n",
       "      <td>(Bagel)</td>\n",
       "      <td>(Pan)</td>\n",
       "      <td>0.425397</td>\n",
       "      <td>0.504762</td>\n",
       "      <td>0.279365</td>\n",
       "      <td>0.656716</td>\n",
       "      <td>1.301042</td>\n",
       "      <td>0.064641</td>\n",
       "      <td>1.442650</td>\n",
       "    </tr>\n",
       "    <tr>\n",
       "      <th>1</th>\n",
       "      <td>(Huevos)</td>\n",
       "      <td>(Carne)</td>\n",
       "      <td>0.438095</td>\n",
       "      <td>0.476190</td>\n",
       "      <td>0.266667</td>\n",
       "      <td>0.608696</td>\n",
       "      <td>1.278261</td>\n",
       "      <td>0.058050</td>\n",
       "      <td>1.338624</td>\n",
       "    </tr>\n",
       "    <tr>\n",
       "      <th>2</th>\n",
       "      <td>(Queso)</td>\n",
       "      <td>(Carne)</td>\n",
       "      <td>0.501587</td>\n",
       "      <td>0.476190</td>\n",
       "      <td>0.323810</td>\n",
       "      <td>0.645570</td>\n",
       "      <td>1.355696</td>\n",
       "      <td>0.084958</td>\n",
       "      <td>1.477891</td>\n",
       "    </tr>\n",
       "    <tr>\n",
       "      <th>3</th>\n",
       "      <td>(Carne)</td>\n",
       "      <td>(Queso)</td>\n",
       "      <td>0.476190</td>\n",
       "      <td>0.501587</td>\n",
       "      <td>0.323810</td>\n",
       "      <td>0.680000</td>\n",
       "      <td>1.355696</td>\n",
       "      <td>0.084958</td>\n",
       "      <td>1.557540</td>\n",
       "    </tr>\n",
       "    <tr>\n",
       "      <th>4</th>\n",
       "      <td>(Huevos)</td>\n",
       "      <td>(Queso)</td>\n",
       "      <td>0.438095</td>\n",
       "      <td>0.501587</td>\n",
       "      <td>0.298413</td>\n",
       "      <td>0.681159</td>\n",
       "      <td>1.358008</td>\n",
       "      <td>0.078670</td>\n",
       "      <td>1.563203</td>\n",
       "    </tr>\n",
       "    <tr>\n",
       "      <th>5</th>\n",
       "      <td>(Leche)</td>\n",
       "      <td>(Queso)</td>\n",
       "      <td>0.501587</td>\n",
       "      <td>0.501587</td>\n",
       "      <td>0.304762</td>\n",
       "      <td>0.607595</td>\n",
       "      <td>1.211344</td>\n",
       "      <td>0.053172</td>\n",
       "      <td>1.270148</td>\n",
       "    </tr>\n",
       "    <tr>\n",
       "      <th>6</th>\n",
       "      <td>(Queso)</td>\n",
       "      <td>(Leche)</td>\n",
       "      <td>0.501587</td>\n",
       "      <td>0.501587</td>\n",
       "      <td>0.304762</td>\n",
       "      <td>0.607595</td>\n",
       "      <td>1.211344</td>\n",
       "      <td>0.053172</td>\n",
       "      <td>1.270148</td>\n",
       "    </tr>\n",
       "    <tr>\n",
       "      <th>7</th>\n",
       "      <td>(Vino)</td>\n",
       "      <td>(Queso)</td>\n",
       "      <td>0.438095</td>\n",
       "      <td>0.501587</td>\n",
       "      <td>0.269841</td>\n",
       "      <td>0.615942</td>\n",
       "      <td>1.227986</td>\n",
       "      <td>0.050098</td>\n",
       "      <td>1.297754</td>\n",
       "    </tr>\n",
       "    <tr>\n",
       "      <th>8</th>\n",
       "      <td>(Huevos, Queso)</td>\n",
       "      <td>(Carne)</td>\n",
       "      <td>0.298413</td>\n",
       "      <td>0.476190</td>\n",
       "      <td>0.215873</td>\n",
       "      <td>0.723404</td>\n",
       "      <td>1.519149</td>\n",
       "      <td>0.073772</td>\n",
       "      <td>1.893773</td>\n",
       "    </tr>\n",
       "    <tr>\n",
       "      <th>9</th>\n",
       "      <td>(Queso, Carne)</td>\n",
       "      <td>(Huevos)</td>\n",
       "      <td>0.323810</td>\n",
       "      <td>0.438095</td>\n",
       "      <td>0.215873</td>\n",
       "      <td>0.666667</td>\n",
       "      <td>1.521739</td>\n",
       "      <td>0.074014</td>\n",
       "      <td>1.685714</td>\n",
       "    </tr>\n",
       "    <tr>\n",
       "      <th>10</th>\n",
       "      <td>(Huevos, Carne)</td>\n",
       "      <td>(Queso)</td>\n",
       "      <td>0.266667</td>\n",
       "      <td>0.501587</td>\n",
       "      <td>0.215873</td>\n",
       "      <td>0.809524</td>\n",
       "      <td>1.613924</td>\n",
       "      <td>0.082116</td>\n",
       "      <td>2.616667</td>\n",
       "    </tr>\n",
       "    <tr>\n",
       "      <th>11</th>\n",
       "      <td>(Leche, Queso)</td>\n",
       "      <td>(Carne)</td>\n",
       "      <td>0.304762</td>\n",
       "      <td>0.476190</td>\n",
       "      <td>0.203175</td>\n",
       "      <td>0.666667</td>\n",
       "      <td>1.400000</td>\n",
       "      <td>0.058050</td>\n",
       "      <td>1.571429</td>\n",
       "    </tr>\n",
       "    <tr>\n",
       "      <th>12</th>\n",
       "      <td>(Leche, Carne)</td>\n",
       "      <td>(Queso)</td>\n",
       "      <td>0.244444</td>\n",
       "      <td>0.501587</td>\n",
       "      <td>0.203175</td>\n",
       "      <td>0.831169</td>\n",
       "      <td>1.657077</td>\n",
       "      <td>0.080564</td>\n",
       "      <td>2.952137</td>\n",
       "    </tr>\n",
       "    <tr>\n",
       "      <th>13</th>\n",
       "      <td>(Queso, Carne)</td>\n",
       "      <td>(Leche)</td>\n",
       "      <td>0.323810</td>\n",
       "      <td>0.501587</td>\n",
       "      <td>0.203175</td>\n",
       "      <td>0.627451</td>\n",
       "      <td>1.250931</td>\n",
       "      <td>0.040756</td>\n",
       "      <td>1.337845</td>\n",
       "    </tr>\n",
       "  </tbody>\n",
       "</table>\n",
       "</div>"
      ],
      "text/plain": [
       "        antecedents consequents  antecedent support  consequent support  \\\n",
       "0           (Bagel)       (Pan)            0.425397            0.504762   \n",
       "1          (Huevos)     (Carne)            0.438095            0.476190   \n",
       "2           (Queso)     (Carne)            0.501587            0.476190   \n",
       "3           (Carne)     (Queso)            0.476190            0.501587   \n",
       "4          (Huevos)     (Queso)            0.438095            0.501587   \n",
       "5           (Leche)     (Queso)            0.501587            0.501587   \n",
       "6           (Queso)     (Leche)            0.501587            0.501587   \n",
       "7            (Vino)     (Queso)            0.438095            0.501587   \n",
       "8   (Huevos, Queso)     (Carne)            0.298413            0.476190   \n",
       "9    (Queso, Carne)    (Huevos)            0.323810            0.438095   \n",
       "10  (Huevos, Carne)     (Queso)            0.266667            0.501587   \n",
       "11   (Leche, Queso)     (Carne)            0.304762            0.476190   \n",
       "12   (Leche, Carne)     (Queso)            0.244444            0.501587   \n",
       "13   (Queso, Carne)     (Leche)            0.323810            0.501587   \n",
       "\n",
       "     support  confidence      lift  leverage  conviction  \n",
       "0   0.279365    0.656716  1.301042  0.064641    1.442650  \n",
       "1   0.266667    0.608696  1.278261  0.058050    1.338624  \n",
       "2   0.323810    0.645570  1.355696  0.084958    1.477891  \n",
       "3   0.323810    0.680000  1.355696  0.084958    1.557540  \n",
       "4   0.298413    0.681159  1.358008  0.078670    1.563203  \n",
       "5   0.304762    0.607595  1.211344  0.053172    1.270148  \n",
       "6   0.304762    0.607595  1.211344  0.053172    1.270148  \n",
       "7   0.269841    0.615942  1.227986  0.050098    1.297754  \n",
       "8   0.215873    0.723404  1.519149  0.073772    1.893773  \n",
       "9   0.215873    0.666667  1.521739  0.074014    1.685714  \n",
       "10  0.215873    0.809524  1.613924  0.082116    2.616667  \n",
       "11  0.203175    0.666667  1.400000  0.058050    1.571429  \n",
       "12  0.203175    0.831169  1.657077  0.080564    2.952137  \n",
       "13  0.203175    0.627451  1.250931  0.040756    1.337845  "
      ]
     },
     "execution_count": 10,
     "metadata": {},
     "output_type": "execute_result"
    }
   ],
   "source": [
    "reglas_interesantes"
   ]
  },
  {
   "cell_type": "code",
   "execution_count": 11,
   "metadata": {},
   "outputs": [
    {
     "data": {
      "text/plain": [
       "antecedents           (Leche, Carne)\n",
       "consequents                  (Queso)\n",
       "antecedent support          0.244444\n",
       "consequent support          0.501587\n",
       "support                     0.203175\n",
       "confidence                  0.831169\n",
       "lift                         1.65708\n",
       "leverage                   0.0805644\n",
       "conviction                   2.95214\n",
       "Name: 12, dtype: object"
      ]
     },
     "execution_count": 11,
     "metadata": {},
     "output_type": "execute_result"
    }
   ],
   "source": [
    "reglas_interesantes.loc[reglas_interesantes['lift'].argmax()]"
   ]
  },
  {
   "cell_type": "markdown",
   "metadata": {},
   "source": [
    "### Análisis"
   ]
  },
  {
   "cell_type": "markdown",
   "metadata": {},
   "source": [
    "> ¿Qué reglas superan el umbral de confianza mínima $\\mathbf{minconf}=0.6$?. Comente los resultados obtenidos.\n",
    "\n",
    "Las 14 reglas mostradas en la tabla anterior corresponden a las reglas de asociación con un mayor $\\mathbf{minconf}=0.6$. De estos valores, podemos destacar aquellos que tengan un `support` y `confidence` alto. Recordemos que el `confidence` de un itemset determina con qué frecuencia aparecen los elementos de set $Y$ en las items que contiene $X$. Esta se define como:\n",
    "\n",
    "$$\n",
    "c(X\\to Y) = \\frac{\\sigma(X\\cup Y)}{\\sigma(X)} = \\frac{s(X\\to Y)}{s(X)}\n",
    "$$\n",
    "\n",
    "Ahora, necesitamos de un estadísticos que relacione `support` y `confidence`, para entender como se comporta una regla. Para ello, haremos uso del `lift`, definido como:\n",
    "\n",
    "$$\n",
    "\\text{lift}(X\\to Y) = \\frac{c(X\\to Y)}{s(Y)}\n",
    "$$\n",
    "\n",
    "Esta métrica se usa comúnmente para medir la frecuencia con la que el `confidence` y el `support` de una regla $X\\to Y$ ocurren juntos, cuando $X$ e $Y$ fueran estadísticamente independientes.\n",
    "\n",
    "Finalmente, apartir de esto, podemos obserevar que el mayor `lift` corresponde a la regla  $\\text{(Leche, Carne)}\\to \\text{(Queso)}$."
   ]
  },
  {
   "cell_type": "markdown",
   "metadata": {
    "colab_type": "text",
    "id": "xqV6-_V0XCd_"
   },
   "source": [
    "**Scatter Plot**"
   ]
  },
  {
   "cell_type": "code",
   "execution_count": 12,
   "metadata": {
    "colab": {},
    "colab_type": "code",
    "id": "Nqwmym4ZXCmt"
   },
   "outputs": [
    {
     "data": {
      "image/png": "[encoded data removed]",
      "text/plain": [
       "<Figure size 432x288 with 1 Axes>"
      ]
     },
     "metadata": {
      "needs_background": "light"
     },
     "output_type": "display_data"
    }
   ],
   "source": [
    "plt.scatter(reglas_interesantes['support'], reglas_interesantes['confidence'], alpha=0.5, marker=\"*\")\n",
    "plt.xlabel('Soporte')\n",
    "plt.ylabel('Confianza')\n",
    "plt.title('Soporte vs Confianza')\n",
    "plt.show()"
   ]
  },
  {
   "cell_type": "markdown",
   "metadata": {},
   "source": [
    "### Análisis"
   ]
  },
  {
   "cell_type": "markdown",
   "metadata": {},
   "source": [
    "> Interpretar el gráfico. Compare la regla con mayor Soporte versus la regla con mayor Confianza. ¿Qué puede concluir al respecto?.\n",
    "\n",
    "De acuerdo a los datos graficados, vemos que aquellos que tiene mayor `support`, tienden a un menor grado de `confidence`, y viceversa, produciendo un comportamiento inversamente proporcional en estas métricas.\n",
    "\n",
    "Esto puede verse reflejado nuevamente en el `lift`, pero para comprender esto, veamos la siguiente figura:"
   ]
  },
  {
   "cell_type": "code",
   "execution_count": 13,
   "metadata": {},
   "outputs": [
    {
     "data": {
      "image/png": "[encoded data removed]",
      "text/plain": [
       "<Figure size 1920x720 with 2 Axes>"
      ]
     },
     "metadata": {},
     "output_type": "display_data"
    }
   ],
   "source": [
    "plt.rcdefaults()\n",
    "fig, (ax1, ax2) = plt.subplots(1,2, figsize=(16,6), dpi=120)\n",
    "\n",
    "fit = np.polyfit(reglas_interesantes['lift'], reglas_interesantes['confidence'], 1)\n",
    "fit_fn = np.poly1d(fit)\n",
    "ax1.plot(reglas_interesantes['lift'], \n",
    "         reglas_interesantes['confidence'], 'yo',\n",
    "         reglas_interesantes['lift'],  \n",
    "         fit_fn(reglas_interesantes['lift']))\n",
    "\n",
    "ax1.set_xlabel('Lift')\n",
    "ax1.set_ylabel('Confianza')\n",
    "ax1.set_title('Lift vs Confianza')\n",
    "\n",
    "fit = np.polyfit(reglas_interesantes['lift'], reglas_interesantes['support'], 1)\n",
    "fit_fn = np.poly1d(fit)\n",
    "ax2.plot(reglas_interesantes['lift'], \n",
    "         reglas_interesantes['support'], 'yo',\n",
    "         reglas_interesantes['lift'],  \n",
    "         fit_fn(reglas_interesantes['lift']))\n",
    "\n",
    "ax2.set_xlabel('Lift')\n",
    "ax2.set_ylabel('Soporte')\n",
    "ax2.set_title('Lift vs Soporte')\n",
    "\n",
    "plt.show()"
   ]
  },
  {
   "cell_type": "markdown",
   "metadata": {},
   "source": [
    "Finalmente, vemos que las rectas de `Lift vs Confianza` y`Lift vs Soporte` nos confirman el comportamiento inversamente proporcional de `confidence` y el `support`, dada la ecuación anteriormente definida:\n",
    "\n",
    "$$\n",
    "\\text{lift}(X\\to Y) = \\frac{c(X\\to Y)}{s(Y)}\n",
    "$$\n",
    "\n",
    "A mayor `lift`, mayor `confidence` y menor `support`."
   ]
  }
 ],
 "metadata": {
  "colab": {
   "collapsed_sections": [],
   "name": "INF391_T8.ipynb",
   "provenance": [],
   "toc_visible": true
  },
  "kernelspec": {
   "display_name": "Python 3",
   "language": "python",
   "name": "python3"
  },
  "language_info": {
   "codemirror_mode": {
    "name": "ipython",
    "version": 3
   },
   "file_extension": ".py",
   "mimetype": "text/x-python",
   "name": "python",
   "nbconvert_exporter": "python",
   "pygments_lexer": "ipython3",
   "version": "3.7.6"
  }
 },
 "nbformat": 4,
 "nbformat_minor": 1
}
